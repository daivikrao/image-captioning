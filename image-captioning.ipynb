{
 "cells": [
  {
   "cell_type": "markdown",
   "metadata": {
    "id": "0-qHOt2zvMvQ"
   },
   "source": [
    "# Image Captioning\n",
    "## Introduction\n",
    "This assignment aims to describe the content of an image by using CNNs and RNNs to build an Image Caption Generator. The model would be based on the paper [4] and it will be implemented using Tensorflow and Keras. The dataset used is Flickr 8K [5], consisting of 8,000 images each one paired with five different captions to provide clear descriptions. \n",
    "\n",
    "The model architectures consists of a CNN which extracts the features and encodes the input image and a Recurrent Neural Network (RNN) based on Long Short Term Memory (LSTM) layers. The most significant difference with other models is that the image embedding is provided as the first input to the RNN network and only once.\n",
    "![Model Architecture](https://github.com/raunak222/Image-Captioning/raw/master/Image/decoder.png)\n",
    "\n",
    "\n",
    "## References\n",
    "[1] Image captioning with visual attention: https://www.tensorflow.org/tutorials/text/image_captioning\n",
    "\n",
    "[2] RNNs in Computer Vision — Image captioning: https://thinkautonomous.medium.com/rnns-in-computer-vision-image-captioning-597d5e1321d1\n",
    "\n",
    "[3] Image Captioning Project from Udacity Computer Vision Nanodegree: https://github.com/raunak222/Image-Captioning\n",
    "\n",
    "[4] Show and Tell: A Neural Image Caption Generator: https://arxiv.org/pdf/1411.4555.pdf\n",
    "\n",
    "[5] Flickr 8k Dataset: https://www.kaggle.com/adityajn105/flickr8k\n",
    "\n",
    "## Authors\n",
    "- Serghei Socolovschi: [serghei@kth.se](mailto:serghei@kth.se)\n",
    "- Angel Igareta: [alih2@kth.se](mailto:alih2@kth.se)"
   ]
  },
  {
   "cell_type": "markdown",
   "metadata": {
    "id": "bt3hHGrEwcFm"
   },
   "source": [
    "## Dependencies"
   ]
  },
  {
   "cell_type": "code",
   "execution_count": 2,
   "metadata": {
    "id": "gfjrnYN0vLpa"
   },
   "outputs": [
    {
     "name": "stdout",
     "output_type": "stream",
     "text": [
      "Requirement already satisfied: sklearn in c:\\python310\\lib\\site-packages (0.0.post1)\n"
     ]
    },
    {
     "name": "stderr",
     "output_type": "stream",
     "text": [
      "WARNING: You are using pip version 22.0.4; however, version 22.3.1 is available.\n",
      "You should consider upgrading via the 'C:\\Python310\\python.exe -m pip install --upgrade pip' command.\n"
     ]
    },
    {
     "ename": "ModuleNotFoundError",
     "evalue": "No module named 'sklearn'",
     "output_type": "error",
     "traceback": [
      "\u001b[1;31m---------------------------------------------------------------------------\u001b[0m",
      "\u001b[1;31mModuleNotFoundError\u001b[0m                       Traceback (most recent call last)",
      "Cell \u001b[1;32mIn[2], line 15\u001b[0m\n\u001b[0;32m     12\u001b[0m \u001b[39mfrom\u001b[39;00m \u001b[39mtime\u001b[39;00m \u001b[39mimport\u001b[39;00m time\n\u001b[0;32m     14\u001b[0m \u001b[39mfrom\u001b[39;00m \u001b[39mtqdm\u001b[39;00m \u001b[39mimport\u001b[39;00m tqdm \u001b[39m# progress bar\u001b[39;00m\n\u001b[1;32m---> 15\u001b[0m \u001b[39mfrom\u001b[39;00m \u001b[39msklearn\u001b[39;00m\u001b[39m.\u001b[39;00m\u001b[39mmodel_selection\u001b[39;00m \u001b[39mimport\u001b[39;00m train_test_split \u001b[39m# Dividing train test\u001b[39;00m\n\u001b[0;32m     16\u001b[0m \u001b[39mfrom\u001b[39;00m \u001b[39mnltk\u001b[39;00m\u001b[39m.\u001b[39;00m\u001b[39mtranslate\u001b[39;00m\u001b[39m.\u001b[39;00m\u001b[39mbleu_score\u001b[39;00m \u001b[39mimport\u001b[39;00m corpus_bleu \u001b[39m# BLEU Score\u001b[39;00m\n",
      "\u001b[1;31mModuleNotFoundError\u001b[0m: No module named 'sklearn'"
     ]
    }
   ],
   "source": [
    "import re\n",
    "import random\n",
    "\n",
    "\n",
    "import numpy as np\n",
    "import tensorflow as tf\n",
    "import matplotlib.pyplot as plt\n",
    "\n",
    "\n",
    "from tensorflow import keras\n",
    "from time import time\n",
    "\n",
    "from tqdm import tqdm # progress bar\n",
    "from sklearn.model_selection import train_test_split # Dividing train test\n",
    "from nltk.translate.bleu_score import corpus_bleu # BLEU Score\n"
   ]
  },
  {
   "cell_type": "markdown",
   "metadata": {
    "id": "0w6rfmajwbEk"
   },
   "source": [
    "## Dataset\n",
    "Load dataset from local path or google drive"
   ]
  },
  {
   "cell_type": "code",
   "execution_count": null,
   "metadata": {
    "id": "7noKjIycxGwN"
   },
   "outputs": [],
   "source": [
    "# from google.colab import drive\n",
    "# drive.mount('/content/drive', force_remount=True)"
   ]
  },
  {
   "cell_type": "code",
   "execution_count": 5,
   "metadata": {
    "id": "JwKGCUZlxwEz"
   },
   "outputs": [],
   "source": [
    "# Change this path to the dataset downloaded from Flickr8 [5]\n",
    "#dataset_path = \"E:/daivik/Desktop/jupyter/image_captioning/image-captioning\\notebooks\"\n",
    "dataset_images_path = \"Images/\" "
   ]
  },
  {
   "cell_type": "markdown",
   "metadata": {
    "id": "93wtzSn0MbAz"
   },
   "source": [
    "Images configuration"
   ]
  },
  {
   "cell_type": "code",
   "execution_count": 12,
   "metadata": {
    "id": "fOxSmplF3Jdc"
   },
   "outputs": [],
   "source": [
    "img_height = 180\n",
    "img_width = 180\n",
    "validation_split = 0.2"
   ]
  },
  {
   "cell_type": "markdown",
   "metadata": {
    "id": "J9js_Vnr3VTN"
   },
   "source": [
    "### Encoder Model\n",
    "\n",
    "In order to extract the features from the images, a pretrained CNN model, named Inception V3 was used. In the figure below, there is the representation of the architecture of the used network.\n",
    "\n",
    "![Inception Architecture](https://paperswithcode.com/media/methods/inceptionv3onc--oview_vjAbOfw.png)"
   ]
  },
  {
   "cell_type": "code",
   "execution_count": 6,
   "metadata": {
    "id": "2mRYvH-lKjge"
   },
   "outputs": [],
   "source": [
    "# Remove the last layer of the Inception V3 model\n",
    "def get_encoder():\n",
    "    image_model = tf.keras.applications.InceptionV3(include_top=False, weights='imagenet')\n",
    "    new_input = image_model.input\n",
    "    hidden_layer = image_model.layers[-1].output\n",
    "\n",
    "    image_features_extract_model = tf.keras.Model(new_input, hidden_layer)\n",
    "    return image_features_extract_model"
   ]
  },
  {
   "cell_type": "markdown",
   "metadata": {
    "id": "MUp3k4tv3QUK"
   },
   "source": [
    "### Read captions\n",
    "Create dictionary with picture filename as the key and an array of captions as the value"
   ]
  },
  {
   "cell_type": "code",
   "execution_count": 7,
   "metadata": {
    "id": "ZmbJa3Q-Kjgb"
   },
   "outputs": [],
   "source": [
    "# Preprocess the caption, splitting the string and adding <start> and <end> tokens\n",
    "def get_preprocessed_caption(caption):    \n",
    "    caption = re.sub(r'\\s+', ' ', caption)\n",
    "    caption = caption.strip()\n",
    "    caption = \"<start> \" + caption + \" <end>\"\n",
    "    return caption"
   ]
  },
  {
   "cell_type": "code",
   "execution_count": 9,
   "metadata": {
    "id": "inAwp6UWw42K"
   },
   "outputs": [],
   "source": [
    "images_captions_dict = {}\n",
    "\n",
    "with open(\"captions.txt\", \"r\") as dataset_info:\n",
    "    next(dataset_info) # Omit header: image, caption\n",
    "\n",
    "    # Using a subset of 4,000 entries out of 40,000\n",
    "    for info_raw in list(dataset_info)[:4000]:\n",
    "        info = info_raw.split(\",\")\n",
    "        image_filename = info[0]\n",
    "        caption = get_preprocessed_caption(info[1])\n",
    "\n",
    "        if image_filename not in images_captions_dict.keys():\n",
    "            images_captions_dict[image_filename] = [caption]\n",
    "        else:\n",
    "            images_captions_dict[image_filename].append(caption)"
   ]
  },
  {
   "cell_type": "markdown",
   "metadata": {
    "id": "xF_Jv1AKKjgf"
   },
   "source": [
    "### Read images\n",
    "Create dictionary with image filename as key and the image feature extracted using the pretrained model as the value."
   ]
  },
  {
   "cell_type": "code",
   "execution_count": 10,
   "metadata": {
    "id": "MLtoBOSwNnr7"
   },
   "outputs": [],
   "source": [
    "def load_image(image_path):\n",
    "    img = tf.io.read_file(dataset_images_path + image_path)\n",
    "    img = tf.image.decode_jpeg(img, channels=3)\n",
    "    img = tf.image.resize(img, (img_height, img_width))\n",
    "    img = tf.keras.applications.inception_v3.preprocess_input(img) # preprocessing needed for pre-trained model\n",
    "    return img, image_path"
   ]
  },
  {
   "cell_type": "code",
   "execution_count": 13,
   "metadata": {
    "id": "LtV_P5lY7K-x"
   },
   "outputs": [],
   "source": [
    "image_captions_dict_keys = list(images_captions_dict.keys())\n",
    "image_dataset = tf.data.Dataset.from_tensor_slices(image_captions_dict_keys)\n",
    "image_dataset = image_dataset.map(load_image, num_parallel_calls=tf.data.experimental.AUTOTUNE).batch(64)"
   ]
  },
  {
   "cell_type": "code",
   "execution_count": 14,
   "metadata": {
    "id": "jO95FUrAKjgs",
    "outputId": "3052b66e-4015-4137-c154-4fcae017226b"
   },
   "outputs": [
    {
     "name": "stdout",
     "output_type": "stream",
     "text": [
      "Downloading data from https://storage.googleapis.com/tensorflow/keras-applications/inception_v3/inception_v3_weights_tf_dim_ordering_tf_kernels_notop.h5\n",
      "87910968/87910968 [==============================] - 76s 1us/step\n"
     ]
    },
    {
     "name": "stderr",
     "output_type": "stream",
     "text": [
      "100%|██████████| 13/13 [01:22<00:00,  6.34s/it]\n"
     ]
    }
   ],
   "source": [
    "images_dict = {}\n",
    "encoder = get_encoder()\n",
    "for img_tensor, path_tensor in tqdm(image_dataset):\n",
    "    batch_features_tensor = encoder(img_tensor)\n",
    "    \n",
    "    # Loop over batch to save each element in images_dict\n",
    "    for batch_features, path in zip(batch_features_tensor, path_tensor):\n",
    "        decoded_path = path.numpy().decode(\"utf-8\")\n",
    "        images_dict[decoded_path] = batch_features.numpy()"
   ]
  },
  {
   "cell_type": "markdown",
   "metadata": {
    "id": "OPRFVbOiM4r8"
   },
   "source": [
    "Image size after extracting features from the pre-trained model"
   ]
  },
  {
   "cell_type": "code",
   "execution_count": 15,
   "metadata": {
    "id": "jUjh7BL0Kjgu",
    "outputId": "77980fc4-8b57-4c39-fdd9-2e74e4acaff2"
   },
   "outputs": [
    {
     "data": {
      "text/plain": [
       "(4, 4, 2048)"
      ]
     },
     "execution_count": 15,
     "metadata": {},
     "output_type": "execute_result"
    }
   ],
   "source": [
    "list(images_dict.items())[0][1].shape"
   ]
  },
  {
   "cell_type": "markdown",
   "metadata": {
    "id": "S_NC5T0UKjg9"
   },
   "source": [
    "Display image from original dataset"
   ]
  },
  {
   "cell_type": "code",
   "execution_count": 16,
   "metadata": {
    "id": "weVyhtW7KjhC",
    "outputId": "da97fdc8-f595-486a-b1b4-5dcc2a1be5e6"
   },
   "outputs": [
    {
     "name": "stderr",
     "output_type": "stream",
     "text": [
      "Clipping input data to the valid range for imshow with RGB data ([0..1] for floats or [0..255] for integers).\n"
     ]
    },
    {
     "data": {
      "text/plain": [
       "<matplotlib.image.AxesImage at 0x29c00c3a020>"
      ]
     },
     "execution_count": 16,
     "metadata": {},
     "output_type": "execute_result"
    },
    {
     "data": {
      "image/png": "[encoded data removed]",
      "text/plain": [
       "<Figure size 640x480 with 1 Axes>"
      ]
     },
     "metadata": {},
     "output_type": "display_data"
    }
   ],
   "source": [
    "plt.imshow(load_image('1000268201_693b08cb0e.jpg')[0].numpy())"
   ]
  },
  {
   "cell_type": "markdown",
   "metadata": {
    "id": "HnPrQKqI-dqr"
   },
   "source": [
    "### Get images and labels from filenames"
   ]
  },
  {
   "cell_type": "code",
   "execution_count": null,
   "metadata": {
    "id": "8g-WXG-e-i5A",
    "scrolled": true
   },
   "outputs": [],
   "source": [
    "def get_images_labels(image_filenames):\n",
    "    images = []\n",
    "    labels = []\n",
    "    \n",
    "    for image_filename in image_filenames:\n",
    "        image = images_dict[image_filename]\n",
    "        captions = images_captions_dict[image_filename]\n",
    "\n",
    "        # Add one instance per caption\n",
    "        for caption in captions:\n",
    "            images.append(image)\n",
    "            labels.append(caption)\n",
    "            \n",
    "    return images, labels"
   ]
  },
  {
   "cell_type": "markdown",
   "metadata": {
    "id": "uh79Z4VGAsjt"
   },
   "source": [
    "### Generate train and test set\n",
    "This approach divides image_filenames, to avoid same image with different caption in train and test dataset. Also the resulting train test is not shuffled because a tensorflow native method will be used for that aim."
   ]
  },
  {
   "cell_type": "code",
   "execution_count": null,
   "metadata": {
    "id": "lmv4Ov2zAukn"
   },
   "outputs": [],
   "source": [
    "image_filenames = list(images_captions_dict.keys())\n",
    "image_filenames_train, image_filenames_test = \\\n",
    "    train_test_split(image_filenames, test_size=validation_split, random_state=1)\n",
    "\n",
    "X_train, y_train_raw = get_images_labels(image_filenames_train)\n",
    "X_test, y_test_raw = get_images_labels(image_filenames_test)"
   ]
  },
  {
   "cell_type": "code",
   "execution_count": null,
   "metadata": {
    "id": "4v9iXLjjKjg2",
    "outputId": "3baca6e2-a0f2-4b8a-dd0c-75b0876e8a59"
   },
   "outputs": [],
   "source": [
    "# Per image 5 captions and 0.2 test split\n",
    "len(X_train), len(y_train_raw), len(X_test), len(y_test_raw)"
   ]
  },
  {
   "cell_type": "markdown",
   "metadata": {
    "id": "zchQR7L8Kjg3"
   },
   "source": [
    "### Tokenize train labels\n",
    "Generate a vocabulary and transform the train captions to a vector with their indices in the vocabulary [1]."
   ]
  },
  {
   "cell_type": "code",
   "execution_count": null,
   "metadata": {
    "id": "cVlQXxzqKjg4"
   },
   "outputs": [],
   "source": [
    "top_k = 5000 # Take maximum of words out of 7600\n",
    "tokenizer = tf.keras.preprocessing.text.Tokenizer(num_words=top_k,\n",
    "                                                  oov_token=\"<unk>\",\n",
    "                                                  filters='!\"#$%&()*+.,-/:;=?@[\\]^_`{|}~ ')\n",
    "\n",
    "# Generate vocabulary from train captions\n",
    "tokenizer.fit_on_texts(y_train_raw)\n",
    "\n",
    "# Introduce padding to make the captions of the same size for the LSTM model\n",
    "tokenizer.word_index['<pad>'] = 0\n",
    "tokenizer.index_word[0] = '<pad>'\n",
    "\n",
    "# Create the tokenized vectors\n",
    "y_train = tokenizer.texts_to_sequences(y_train_raw)\n",
    "\n",
    "# Add padding to each vector to the max_length of the captions (automatically done)\n",
    "y_train = tf.keras.preprocessing.sequence.pad_sequences(y_train, padding='post')"
   ]
  },
  {
   "cell_type": "markdown",
   "metadata": {
    "id": "WVCzNLB8PeYk"
   },
   "source": [
    "Calculate max caption length which would be the number of hidden layers in the LSTM."
   ]
  },
  {
   "cell_type": "code",
   "execution_count": null,
   "metadata": {
    "id": "tei4umndKjg5",
    "outputId": "596c4d22-3fd4-4aac-810b-8db58423d741"
   },
   "outputs": [],
   "source": [
    "max_caption_length = max(len(t) for t in y_train)\n",
    "print(max_caption_length)"
   ]
  },
  {
   "cell_type": "markdown",
   "metadata": {
    "id": "mqr8VoNiPone"
   },
   "source": [
    "Example tokenization"
   ]
  },
  {
   "cell_type": "code",
   "execution_count": null,
   "metadata": {
    "id": "BoUCBtDwKjg6",
    "outputId": "bd39dcd9-7c68-49da-ff79-97d6dc4729e0"
   },
   "outputs": [],
   "source": [
    "[tokenizer.index_word[i] for i in y_train[1]]"
   ]
  },
  {
   "cell_type": "markdown",
   "metadata": {
    "id": "69SGNQeIKjg7"
   },
   "source": [
    "### Generate Tensorflow dataset\n",
    "Generate dataset using buffer and batch size that would be used during training. "
   ]
  },
  {
   "cell_type": "code",
   "execution_count": null,
   "metadata": {
    "id": "50YbII04Kjg7"
   },
   "outputs": [],
   "source": [
    "dataset = tf.data.Dataset.from_tensor_slices((X_train, y_train))"
   ]
  },
  {
   "cell_type": "code",
   "execution_count": null,
   "metadata": {
    "id": "J2MoZKmwKjg8"
   },
   "outputs": [],
   "source": [
    "BUFFER_SIZE = len(X_train)\n",
    "BATCH_SIZE = 64\n",
    "NUM_STEPS = BUFFER_SIZE // BATCH_SIZE\n",
    "\n",
    "# Shuffle and batch\n",
    "dataset = dataset.shuffle(BUFFER_SIZE).batch(BATCH_SIZE)\n",
    "\n",
    "# Using prefetching: https://www.tensorflow.org/guide/data_performance#prefetching\n",
    "dataset = dataset.prefetch(buffer_size=tf.data.experimental.AUTOTUNE)"
   ]
  },
  {
   "cell_type": "markdown",
   "metadata": {
    "id": "E5B520033IUU"
   },
   "source": [
    "## Models Definition"
   ]
  },
  {
   "cell_type": "markdown",
   "metadata": {
    "id": "-CsiHTr6QKfb"
   },
   "source": [
    "### CNN Encoder"
   ]
  },
  {
   "cell_type": "code",
   "execution_count": null,
   "metadata": {
    "id": "H6VzCSzgKjhF"
   },
   "outputs": [],
   "source": [
    "class CNN_Encoder(tf.keras.Model):\n",
    "    # Since you have already extracted the features and dumped it using pickle\n",
    "    # This encoder passes those features through a Fully connected layer\n",
    "    def __init__(self, embedding_dim):\n",
    "        super(CNN_Encoder, self).__init__()\n",
    "        # shape after fc == (batch_size, 64, embedding_dim)\n",
    "        self.flat = tf.keras.layers.Flatten()\n",
    "        self.fc = tf.keras.layers.Dense(embedding_dim) #, activation='relu')\n",
    "\n",
    "    def call(self, x):\n",
    "        x = self.flat(x)\n",
    "        x = self.fc(x)\n",
    "        return x"
   ]
  },
  {
   "cell_type": "markdown",
   "metadata": {
    "id": "No8kXAyFQOjR"
   },
   "source": [
    "### RNN Decoder"
   ]
  },
  {
   "cell_type": "code",
   "execution_count": null,
   "metadata": {
    "id": "dk0SatimKjhG"
   },
   "outputs": [],
   "source": [
    "class RNN_Decoder(tf.keras.Model):\n",
    "    def __init__(self, embedding_dim, units, vocab_size):\n",
    "        super(RNN_Decoder, self).__init__()\n",
    "        self.units = units\n",
    "\n",
    "        # input_dim = size of the vocabulary\n",
    "        # Define the embedding layer to transform the input caption sequence\n",
    "        self.embedding = tf.keras.layers.Embedding(vocab_size, embedding_dim)\n",
    "\n",
    "        # Define the Long Short Term Memory layer to predict the next words in the sequence \n",
    "        self.lstm = tf.keras.layers.LSTM(self.units, return_sequences=True, return_state=True)\n",
    "            \n",
    "        # Define a dense layer to transform the LSTM output into prediction of the best word\n",
    "        self.fc = tf.keras.layers.Dense(vocab_size) #, activation='softmax')\n",
    "\n",
    "    # A function that transforms the input embeddings and passes them to the LSTM layer \n",
    "    def call(self, captions, features, omit_features = False, initial_state = None, verbose = False):\n",
    "        if verbose:\n",
    "            print(\"Before embedding\")\n",
    "            print(captions.shape)\n",
    "\n",
    "        embed = self.embedding(captions) #(batch_size, 1, embedding_dim)\n",
    "\n",
    "        if verbose:\n",
    "            print(\"Embed\")\n",
    "            print(embed.shape)\n",
    "\n",
    "        features = tf.expand_dims(features, 1)\n",
    "        \n",
    "        if verbose:\n",
    "            print(\"Features\")\n",
    "            print(features.shape)\n",
    "        \n",
    "        # Concatenating the image and caption embeddings before providing them to LSTM\n",
    "        # shape == (batch_size, 1, embedding_dim + hidden_size)\n",
    "        lstm_input = tf.concat([features, embed], axis=-2) if (omit_features == False) else embed\n",
    "        \n",
    "        if verbose:\n",
    "            print(\"LSTM input\")\n",
    "            print(lstm_input.shape)\n",
    "\n",
    "        # Passing the concatenated vector to the LSTM\n",
    "        output, memory_state, carry_state = self.lstm(lstm_input, initial_state=initial_state)\n",
    "\n",
    "        if verbose:\n",
    "            print(\"LSTM output\")\n",
    "            print(output.shape)\n",
    "\n",
    "        # Transform LSTM output units to vocab_size\n",
    "        output = self.fc(output)\n",
    "\n",
    "        return output, memory_state, carry_state\n",
    "\n",
    "    def reset_state(self, batch_size):\n",
    "        return tf.zeros((batch_size, self.units))"
   ]
  },
  {
   "cell_type": "markdown",
   "metadata": {
    "id": "g_E2G-rzKjhJ"
   },
   "source": [
    "## Train Stage"
   ]
  },
  {
   "cell_type": "code",
   "execution_count": null,
   "metadata": {
    "id": "JjbE226nKjhJ"
   },
   "outputs": [],
   "source": [
    "units = embedding_dim = 512 # As in the paper\n",
    "vocab_size = min(top_k + 1, len(tokenizer.word_index.keys()))\n",
    "\n",
    "# Initialize encoder and decoder\n",
    "encoder = CNN_Encoder(embedding_dim)\n",
    "decoder = RNN_Decoder(embedding_dim, units, vocab_size)\n",
    "\n",
    "# Initialize optimizer\n",
    "optimizer = tf.keras.optimizers.Adam()\n",
    "\n",
    "# As the label is not one-hot encoded but indices. Logits as they are not probabilities.\n",
    "loss_object = tf.keras.losses.SparseCategoricalCrossentropy(from_logits=True, reduction='none')\n",
    "\n",
    "# Computes the loss using SCCE and calculates the average of singular losses in the tensor\n",
    "def loss_function(real, pred, verbose=False):\n",
    "    loss_ = loss_object(real, pred)\n",
    "    \n",
    "    if verbose:\n",
    "        print(\"Loss\")\n",
    "        print(loss_)\n",
    "    \n",
    "    loss_ = tf.reduce_mean(loss_, axis = 1)\n",
    "        \n",
    "    if verbose:\n",
    "        print(\"After Mean Axis 1\")    \n",
    "        print(loss_)\n",
    "\n",
    "    return loss_"
   ]
  },
  {
   "cell_type": "code",
   "execution_count": 4,
   "metadata": {
    "id": "V257MWTlKjhL"
   },
   "outputs": [],
   "source": [
    "# Key Point: Any Python side-effects (appending to a list, printing with print, etc) will only happen once, when func is traced. \n",
    "# To have side-effects executed into your tf.function they need to be written as TF ops:\n",
    "@tf.function\n",
    "def train_step(img_tensor, target, verbose=False):    \n",
    "    if verbose:\n",
    "        print(\"Image tensor\")\n",
    "        print(img_tensor.shape)\n",
    "\n",
    "        print(\"Target\")\n",
    "        print(target.shape)    \n",
    "\n",
    "    # The input would be each set of words without the last one (<end>), to leave space for the first one that\n",
    "    # would be the image embedding\n",
    "    dec_input = tf.convert_to_tensor(target[:, :-1])\n",
    "\n",
    "    # Source: https://www.tensorflow.org/api_docs/python/tf/GradientTape\n",
    "    with tf.GradientTape() as tape:\n",
    "        features = encoder(img_tensor)\n",
    "        \n",
    "        if verbose:\n",
    "            print(\"Features CNN\")\n",
    "            print(features)\n",
    "            \n",
    "        predictions, _, _ = decoder(dec_input, features, verbose=verbose)        \n",
    "        \n",
    "        if verbose:\n",
    "            print(\"Predictions RNN\")\n",
    "            print(predictions)\n",
    "        \n",
    "        caption_loss = loss_function(target, predictions) # (batch_size, )\n",
    "\n",
    "        # After tape\n",
    "        total_batch_loss = tf.reduce_sum(caption_loss) # Sum (batch_size, ) => K\n",
    "        mean_batch_loss = tf.reduce_mean(caption_loss) # Mean(batch_size, ) => K\n",
    "\n",
    "    # Updated the variables\n",
    "    trainable_variables = encoder.trainable_variables + decoder.trainable_variables\n",
    "    gradients = tape.gradient(caption_loss, trainable_variables)\n",
    "    optimizer.apply_gradients(zip(gradients, trainable_variables))\n",
    "\n",
    "    return total_batch_loss, mean_batch_loss"
   ]
  },
  {
   "cell_type": "markdown",
   "metadata": {
    "id": "7dosj4FzKjhO"
   },
   "source": [
    "### Checkpoint\n",
    "Create a tensorflow checkpoint on a local path to save the encoder and decoder state while training. Only the last 5 models would be saved. "
   ]
  },
  {
   "cell_type": "code",
   "execution_count": null,
   "metadata": {
    "id": "UrkxMRSzKjhO"
   },
   "outputs": [],
   "source": [
    "checkpoint_path = \"./checkpoints/train\"\n",
    "ckpt = tf.train.Checkpoint(encoder=encoder,\n",
    "                           decoder=decoder,\n",
    "                           optimizer = optimizer)\n",
    "ckpt_manager = tf.train.CheckpointManager(ckpt, checkpoint_path, max_to_keep=5)"
   ]
  },
  {
   "cell_type": "code",
   "execution_count": null,
   "metadata": {
    "id": "f-y18RcyKjhR"
   },
   "outputs": [],
   "source": [
    "start_epoch = 0\n",
    "if ckpt_manager.latest_checkpoint:\n",
    "    start_epoch = int(ckpt_manager.latest_checkpoint.split('-')[-1])\n",
    "    # restoring the latest checkpoint in checkpoint_path\n",
    "    ckpt.restore(ckpt_manager.latest_checkpoint)"
   ]
  },
  {
   "cell_type": "markdown",
   "metadata": {
    "id": "0bZ08OVVKjhS"
   },
   "source": [
    "### Start Training"
   ]
  },
  {
   "cell_type": "code",
   "execution_count": null,
   "metadata": {
    "id": "z0Mx3RAvKjhX"
   },
   "outputs": [],
   "source": [
    "loss_plot = []"
   ]
  },
  {
   "cell_type": "code",
   "execution_count": null,
   "metadata": {
    "id": "nwJQ1x1UKjhh",
    "outputId": "ded53c84-9d4d-4706-c7ff-2e20e14792b7",
    "scrolled": false
   },
   "outputs": [],
   "source": [
    "EPOCHS = 5\n",
    "start_epoch = 0\n",
    "\n",
    "for epoch in range(start_epoch, EPOCHS):\n",
    "    real_epoch = len(loss_plot) + 1\n",
    "    start = time()\n",
    "    total_loss = 0\n",
    "\n",
    "    for (batch, (img_tensor, target)) in enumerate(dataset):\n",
    "        total_batch_loss, mean_batch_loss = train_step(img_tensor, target, verbose=False)\n",
    "        total_loss += total_batch_loss\n",
    "\n",
    "        if batch % 100 == 0:\n",
    "            print ('Epoch {} Batch {} Batch Loss {:.4f}'.format(real_epoch, batch, mean_batch_loss.numpy()))\n",
    "    \n",
    "    print ('Total Loss {:.6f}'.format(total_loss))\n",
    "    epoch_loss = total_loss / NUM_STEPS\n",
    "    \n",
    "    # storing the epoch end loss value to plot later\n",
    "    loss_plot.append(epoch_loss)\n",
    "\n",
    "    if epoch % 5 == 0:\n",
    "        ckpt_manager.save()\n",
    "\n",
    "    print ('Epoch {} Epoch Loss {:.6f}'.format(real_epoch, epoch_loss))\n",
    "    print ('Time taken for 1 epoch {} sec\\n'.format(time() - start))"
   ]
  },
  {
   "cell_type": "code",
   "execution_count": null,
   "metadata": {
    "id": "muLs-p4dKjhi",
    "outputId": "6b943fef-467c-43e1-fbf5-20deceb006ce",
    "scrolled": true
   },
   "outputs": [],
   "source": [
    "plt.plot(loss_plot)\n",
    "plt.xlabel('Epochs')\n",
    "plt.ylabel('Loss')\n",
    "plt.title('Loss Plot')\n",
    "plt.show()"
   ]
  },
  {
   "cell_type": "markdown",
   "metadata": {
    "id": "XFy0s0g-Kjhj"
   },
   "source": [
    "## Test Stage"
   ]
  },
  {
   "cell_type": "markdown",
   "metadata": {
    "id": "dcyYIq3oQhh5"
   },
   "source": [
    "### Evaluate random image"
   ]
  },
  {
   "cell_type": "code",
   "execution_count": null,
   "metadata": {
    "id": "_s_q1Tn-Kjhj"
   },
   "outputs": [],
   "source": [
    "# Remove <start>, <end> and <pad> marks from the predicted sequence\n",
    "def clean_caption(caption):\n",
    "    return [item for item in caption if item not in ['<start>', '<end>', '<pad>']]"
   ]
  },
  {
   "cell_type": "code",
   "execution_count": null,
   "metadata": {
    "id": "2d4ocl2tKjhk"
   },
   "outputs": [],
   "source": [
    "test_img_name = random.choice(image_filenames_train)"
   ]
  },
  {
   "cell_type": "code",
   "execution_count": null,
   "metadata": {
    "id": "J1RGDtzEKjhk",
    "outputId": "2d6289cf-65cd-485e-8005-c6cb612d4803",
    "scrolled": true
   },
   "outputs": [],
   "source": [
    "# Get captions from a test image\n",
    "def get_caption(img):    \n",
    "    # Add image to an array to simulate batch size of 1    \n",
    "    features = encoder(tf.expand_dims(img, 0))\n",
    "    \n",
    "    caption = []\n",
    "    dec_input = tf.expand_dims([], 0)\n",
    "    \n",
    "     # Inputs the image embedding into the trained LSTM layer and predicts the first word of the sequence.\n",
    "    # The output, hidden and cell states are passed again to the LSTM to generate the next word.\n",
    "    # The iteration is repeated until the caption does not reach the max length.\n",
    "    state = None\n",
    "    for i in range(1, max_caption_length):\n",
    "        predictions, memory_state, carry_state = \\\n",
    "            decoder(dec_input, features, omit_features=i > 1, initial_state=state)\n",
    "\n",
    "        # Takes maximum index of predictions\n",
    "        word_index = np.argmax(predictions.numpy().flatten())\n",
    "\n",
    "        caption.append(tokenizer.index_word[word_index])\n",
    "\n",
    "        dec_input = tf.expand_dims([word_index], 0)       \n",
    "        state = [memory_state, carry_state]\n",
    "    \n",
    "    # Filter caption\n",
    "    return clean_caption(caption)\n",
    "\n",
    "raw_img = load_image(test_img_name)[0]\n",
    "img = images_dict[test_img_name]\n",
    "captions = images_captions_dict[test_img_name]\n",
    "\n",
    "plt.imshow(raw_img)\n",
    "\n",
    "print(\"Real captions\")\n",
    "for caption in captions:\n",
    "    print(caption)\n",
    "\n",
    "print(\"Esimated caption\")\n",
    "estimated_caption = get_caption(img)\n",
    "print(estimated_caption)"
   ]
  },
  {
   "cell_type": "markdown",
   "metadata": {
    "id": "3_q10vOfKjhl"
   },
   "source": [
    "### Evaluate dataset using BLEU"
   ]
  },
  {
   "cell_type": "code",
   "execution_count": null,
   "metadata": {
    "id": "Vdz4rw38Kjhl",
    "outputId": "16b97a2c-94d2-4648-b438-c12d69ef6f35",
    "scrolled": true
   },
   "outputs": [],
   "source": [
    "def get_caption(img):    \n",
    "    # Add image to an array to simulate batch size of 1    \n",
    "    features = encoder(tf.expand_dims(img, 0))\n",
    "    \n",
    "    caption = []\n",
    "    dec_input = tf.expand_dims([], 0)\n",
    "    \n",
    "    state = None\n",
    "    for i in range(1, max_caption_length):\n",
    "        predictions, memory_state, carry_state = \\\n",
    "            decoder(dec_input, features, omit_features=i > 1, initial_state=state)\n",
    "\n",
    "        word_index = np.argmax(predictions.numpy().flatten())\n",
    "\n",
    "        caption.append(tokenizer.index_word[word_index])\n",
    "\n",
    "        dec_input = tf.expand_dims([word_index], 0)       \n",
    "        state = [memory_state, carry_state]\n",
    "    \n",
    "    # Filter caption\n",
    "    return clean_caption(caption)\n",
    "\n",
    "actual, predicted = [], []\n",
    "\n",
    "for test_img_name in image_filenames_test:\n",
    "    img = images_dict[test_img_name]\n",
    "    estimated_caption = get_caption(img)\n",
    "\n",
    "    captions = [clean_caption(caption.split()) for caption in images_captions_dict[test_img_name]]\n",
    "    \n",
    "    # store actual and predicted\n",
    "    actual.append(captions)\n",
    "    predicted.append(estimated_caption)\n",
    "\n",
    "# Print BLEU score\n",
    "print('BLEU-1: %f' % corpus_bleu(actual, predicted, weights=(1.0, 0, 0, 0)))\n",
    "print('BLEU-2: %f' % corpus_bleu(actual, predicted, weights=(0.5, 0.5, 0, 0)))"
   ]
  }
 ],
 "metadata": {
  "accelerator": "GPU",
  "colab": {
   "collapsed_sections": [],
   "name": "image-captioning.ipynb",
   "provenance": [],
   "toc_visible": true
  },
  "kernelspec": {
   "display_name": "Python 3",
   "language": "python",
   "name": "python3"
  },
  "language_info": {
   "codemirror_mode": {
    "name": "ipython",
    "version": 3
   },
   "file_extension": ".py",
   "mimetype": "text/x-python",
   "name": "python",
   "nbconvert_exporter": "python",
   "pygments_lexer": "ipython3",
   "version": "3.10.5"
  },
  "vscode": {
   "interpreter": {
    "hash": "369f2c481f4da34e4445cda3fffd2e751bd1c4d706f27375911949ba6bb62e1c"
   }
  }
 },
 "nbformat": 4,
 "nbformat_minor": 1
}
